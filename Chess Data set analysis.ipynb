{
 "cells": [
  {
   "cell_type": "code",
   "execution_count": 50,
   "metadata": {
    "scrolled": true
   },
   "outputs": [
    {
     "data": {
      "text/html": [
       "<div>\n",
       "<style scoped>\n",
       "    .dataframe tbody tr th:only-of-type {\n",
       "        vertical-align: middle;\n",
       "    }\n",
       "\n",
       "    .dataframe tbody tr th {\n",
       "        vertical-align: top;\n",
       "    }\n",
       "\n",
       "    .dataframe thead th {\n",
       "        text-align: right;\n",
       "    }\n",
       "</style>\n",
       "<table border=\"1\" class=\"dataframe\">\n",
       "  <thead>\n",
       "    <tr style=\"text-align: right;\">\n",
       "      <th></th>\n",
       "      <th>id</th>\n",
       "      <th>rated</th>\n",
       "      <th>created_at</th>\n",
       "      <th>last_move_at</th>\n",
       "      <th>turns</th>\n",
       "      <th>victory_status</th>\n",
       "      <th>winner</th>\n",
       "      <th>increment_code</th>\n",
       "      <th>white_id</th>\n",
       "      <th>white_rating</th>\n",
       "      <th>black_id</th>\n",
       "      <th>black_rating</th>\n",
       "      <th>moves</th>\n",
       "      <th>opening_eco</th>\n",
       "      <th>opening_name</th>\n",
       "      <th>opening_ply</th>\n",
       "    </tr>\n",
       "  </thead>\n",
       "  <tbody>\n",
       "    <tr>\n",
       "      <th>0</th>\n",
       "      <td>TZJHLljE</td>\n",
       "      <td>False</td>\n",
       "      <td>1.504210e+12</td>\n",
       "      <td>1.504210e+12</td>\n",
       "      <td>13</td>\n",
       "      <td>outoftime</td>\n",
       "      <td>white</td>\n",
       "      <td>15+2</td>\n",
       "      <td>bourgris</td>\n",
       "      <td>1500</td>\n",
       "      <td>a-00</td>\n",
       "      <td>1191</td>\n",
       "      <td>d4 d5 c4 c6 cxd5 e6 dxe6 fxe6 Nf3 Bb4+ Nc3 Ba5...</td>\n",
       "      <td>D10</td>\n",
       "      <td>Slav Defense: Exchange Variation</td>\n",
       "      <td>5</td>\n",
       "    </tr>\n",
       "    <tr>\n",
       "      <th>1</th>\n",
       "      <td>l1NXvwaE</td>\n",
       "      <td>True</td>\n",
       "      <td>1.504130e+12</td>\n",
       "      <td>1.504130e+12</td>\n",
       "      <td>16</td>\n",
       "      <td>resign</td>\n",
       "      <td>black</td>\n",
       "      <td>5+10</td>\n",
       "      <td>a-00</td>\n",
       "      <td>1322</td>\n",
       "      <td>skinnerua</td>\n",
       "      <td>1261</td>\n",
       "      <td>d4 Nc6 e4 e5 f4 f6 dxe5 fxe5 fxe5 Nxe5 Qd4 Nc6...</td>\n",
       "      <td>B00</td>\n",
       "      <td>Nimzowitsch Defense: Kennedy Variation</td>\n",
       "      <td>4</td>\n",
       "    </tr>\n",
       "    <tr>\n",
       "      <th>2</th>\n",
       "      <td>mIICvQHh</td>\n",
       "      <td>True</td>\n",
       "      <td>1.504130e+12</td>\n",
       "      <td>1.504130e+12</td>\n",
       "      <td>61</td>\n",
       "      <td>mate</td>\n",
       "      <td>white</td>\n",
       "      <td>5+10</td>\n",
       "      <td>ischia</td>\n",
       "      <td>1496</td>\n",
       "      <td>a-00</td>\n",
       "      <td>1500</td>\n",
       "      <td>e4 e5 d3 d6 Be3 c6 Be2 b5 Nd2 a5 a4 c5 axb5 Nc...</td>\n",
       "      <td>C20</td>\n",
       "      <td>King's Pawn Game: Leonardis Variation</td>\n",
       "      <td>3</td>\n",
       "    </tr>\n",
       "    <tr>\n",
       "      <th>3</th>\n",
       "      <td>kWKvrqYL</td>\n",
       "      <td>True</td>\n",
       "      <td>1.504110e+12</td>\n",
       "      <td>1.504110e+12</td>\n",
       "      <td>61</td>\n",
       "      <td>mate</td>\n",
       "      <td>white</td>\n",
       "      <td>20+0</td>\n",
       "      <td>daniamurashov</td>\n",
       "      <td>1439</td>\n",
       "      <td>adivanov2009</td>\n",
       "      <td>1454</td>\n",
       "      <td>d4 d5 Nf3 Bf5 Nc3 Nf6 Bf4 Ng4 e3 Nc6 Be2 Qd7 O...</td>\n",
       "      <td>D02</td>\n",
       "      <td>Queen's Pawn Game: Zukertort Variation</td>\n",
       "      <td>3</td>\n",
       "    </tr>\n",
       "    <tr>\n",
       "      <th>4</th>\n",
       "      <td>9tXo1AUZ</td>\n",
       "      <td>True</td>\n",
       "      <td>1.504030e+12</td>\n",
       "      <td>1.504030e+12</td>\n",
       "      <td>95</td>\n",
       "      <td>mate</td>\n",
       "      <td>white</td>\n",
       "      <td>30+3</td>\n",
       "      <td>nik221107</td>\n",
       "      <td>1523</td>\n",
       "      <td>adivanov2009</td>\n",
       "      <td>1469</td>\n",
       "      <td>e4 e5 Nf3 d6 d4 Nc6 d5 Nb4 a3 Na6 Nc3 Be7 b4 N...</td>\n",
       "      <td>C41</td>\n",
       "      <td>Philidor Defense</td>\n",
       "      <td>5</td>\n",
       "    </tr>\n",
       "    <tr>\n",
       "      <th>5</th>\n",
       "      <td>MsoDV9wj</td>\n",
       "      <td>False</td>\n",
       "      <td>1.504240e+12</td>\n",
       "      <td>1.504240e+12</td>\n",
       "      <td>5</td>\n",
       "      <td>draw</td>\n",
       "      <td>draw</td>\n",
       "      <td>10+0</td>\n",
       "      <td>trelynn17</td>\n",
       "      <td>1250</td>\n",
       "      <td>franklin14532</td>\n",
       "      <td>1002</td>\n",
       "      <td>e4 c5 Nf3 Qa5 a3</td>\n",
       "      <td>B27</td>\n",
       "      <td>Sicilian Defense: Mongoose Variation</td>\n",
       "      <td>4</td>\n",
       "    </tr>\n",
       "    <tr>\n",
       "      <th>6</th>\n",
       "      <td>qwU9rasv</td>\n",
       "      <td>True</td>\n",
       "      <td>1.504230e+12</td>\n",
       "      <td>1.504230e+12</td>\n",
       "      <td>33</td>\n",
       "      <td>resign</td>\n",
       "      <td>white</td>\n",
       "      <td>10+0</td>\n",
       "      <td>capa_jr</td>\n",
       "      <td>1520</td>\n",
       "      <td>daniel_likes_chess</td>\n",
       "      <td>1423</td>\n",
       "      <td>d4 d5 e4 dxe4 Nc3 Nf6 f3 exf3 Nxf3 Nc6 Bb5 a6 ...</td>\n",
       "      <td>D00</td>\n",
       "      <td>Blackmar-Diemer Gambit: Pietrowsky Defense</td>\n",
       "      <td>10</td>\n",
       "    </tr>\n",
       "    <tr>\n",
       "      <th>7</th>\n",
       "      <td>RVN0N3VK</td>\n",
       "      <td>False</td>\n",
       "      <td>1.503680e+12</td>\n",
       "      <td>1.503680e+12</td>\n",
       "      <td>9</td>\n",
       "      <td>resign</td>\n",
       "      <td>black</td>\n",
       "      <td>15+30</td>\n",
       "      <td>daniel_likes_chess</td>\n",
       "      <td>1413</td>\n",
       "      <td>soultego</td>\n",
       "      <td>2108</td>\n",
       "      <td>e4 Nc6 d4 e5 d5 Nce7 c3 Ng6 b4</td>\n",
       "      <td>B00</td>\n",
       "      <td>Nimzowitsch Defense: Kennedy Variation |  Link...</td>\n",
       "      <td>5</td>\n",
       "    </tr>\n",
       "    <tr>\n",
       "      <th>8</th>\n",
       "      <td>dwF3DJHO</td>\n",
       "      <td>True</td>\n",
       "      <td>1.503510e+12</td>\n",
       "      <td>1.503510e+12</td>\n",
       "      <td>66</td>\n",
       "      <td>resign</td>\n",
       "      <td>black</td>\n",
       "      <td>15+0</td>\n",
       "      <td>ehabfanri</td>\n",
       "      <td>1439</td>\n",
       "      <td>daniel_likes_chess</td>\n",
       "      <td>1392</td>\n",
       "      <td>e4 e5 Bc4 Nc6 Nf3 Nd4 d3 Nxf3+ Qxf3 Nf6 h3 Bc5...</td>\n",
       "      <td>C50</td>\n",
       "      <td>Italian Game: Schilling-Kostic Gambit</td>\n",
       "      <td>6</td>\n",
       "    </tr>\n",
       "    <tr>\n",
       "      <th>9</th>\n",
       "      <td>afoMwnLg</td>\n",
       "      <td>True</td>\n",
       "      <td>1.503440e+12</td>\n",
       "      <td>1.503440e+12</td>\n",
       "      <td>119</td>\n",
       "      <td>mate</td>\n",
       "      <td>white</td>\n",
       "      <td>10+0</td>\n",
       "      <td>daniel_likes_chess</td>\n",
       "      <td>1381</td>\n",
       "      <td>mirco25</td>\n",
       "      <td>1209</td>\n",
       "      <td>e4 d5 exd5 Qxd5 Nc3 Qe5+ Be2 Na6 d4 Qf5 Bxa6 b...</td>\n",
       "      <td>B01</td>\n",
       "      <td>Scandinavian Defense: Mieses-Kotroc Variation</td>\n",
       "      <td>4</td>\n",
       "    </tr>\n",
       "    <tr>\n",
       "      <th>10</th>\n",
       "      <td>HgKLWPsz</td>\n",
       "      <td>False</td>\n",
       "      <td>1.503350e+12</td>\n",
       "      <td>1.503350e+12</td>\n",
       "      <td>39</td>\n",
       "      <td>mate</td>\n",
       "      <td>white</td>\n",
       "      <td>20+60</td>\n",
       "      <td>daniel_likes_chess</td>\n",
       "      <td>1381</td>\n",
       "      <td>anaissac</td>\n",
       "      <td>1272</td>\n",
       "      <td>e3 e6 d4 d6 Bd3 c6 Nf3 Be7 Nc3 Nf6 Bd2 Bd7 Qe2...</td>\n",
       "      <td>A00</td>\n",
       "      <td>Van't Kruijs Opening</td>\n",
       "      <td>1</td>\n",
       "    </tr>\n",
       "    <tr>\n",
       "      <th>11</th>\n",
       "      <td>Vf5fKWzI</td>\n",
       "      <td>False</td>\n",
       "      <td>1.503350e+12</td>\n",
       "      <td>1.503350e+12</td>\n",
       "      <td>38</td>\n",
       "      <td>resign</td>\n",
       "      <td>black</td>\n",
       "      <td>20+60</td>\n",
       "      <td>daniel_likes_chess</td>\n",
       "      <td>1381</td>\n",
       "      <td>subham777</td>\n",
       "      <td>1867</td>\n",
       "      <td>e4 e6 d4 d5 e5 c5 c3 Nc6 Nf3 Qb6 Be3 Qxb2 Nbd2...</td>\n",
       "      <td>C02</td>\n",
       "      <td>French Defense: Advance Variation |  Paulsen A...</td>\n",
       "      <td>9</td>\n",
       "    </tr>\n",
       "    <tr>\n",
       "      <th>12</th>\n",
       "      <td>HRti5mKv</td>\n",
       "      <td>False</td>\n",
       "      <td>1.503350e+12</td>\n",
       "      <td>1.503350e+12</td>\n",
       "      <td>60</td>\n",
       "      <td>resign</td>\n",
       "      <td>black</td>\n",
       "      <td>5+40</td>\n",
       "      <td>daniel_likes_chess</td>\n",
       "      <td>1381</td>\n",
       "      <td>roman12342005</td>\n",
       "      <td>1936</td>\n",
       "      <td>e4 e6 Nf3 d5 exd5 exd5 Qe2+ Be7 Nc3 Nf6 d4 O-O...</td>\n",
       "      <td>C00</td>\n",
       "      <td>French Defense: Knight Variation</td>\n",
       "      <td>3</td>\n",
       "    </tr>\n",
       "    <tr>\n",
       "      <th>13</th>\n",
       "      <td>2fEjSei6</td>\n",
       "      <td>False</td>\n",
       "      <td>1.503340e+12</td>\n",
       "      <td>1.503340e+12</td>\n",
       "      <td>31</td>\n",
       "      <td>resign</td>\n",
       "      <td>black</td>\n",
       "      <td>8+0</td>\n",
       "      <td>daniel_likes_chess</td>\n",
       "      <td>1381</td>\n",
       "      <td>alkhan</td>\n",
       "      <td>1607</td>\n",
       "      <td>e4 e6 Qh5 g6 Qe5 Nf6 d4 d6 Qb5+ Bd7 Qxb7 Bc6 Q...</td>\n",
       "      <td>C00</td>\n",
       "      <td>French Defense #2</td>\n",
       "      <td>2</td>\n",
       "    </tr>\n",
       "    <tr>\n",
       "      <th>14</th>\n",
       "      <td>u7i6dOaJ</td>\n",
       "      <td>False</td>\n",
       "      <td>1.504090e+12</td>\n",
       "      <td>1.504100e+12</td>\n",
       "      <td>31</td>\n",
       "      <td>mate</td>\n",
       "      <td>white</td>\n",
       "      <td>15+15</td>\n",
       "      <td>shivangithegenius</td>\n",
       "      <td>1094</td>\n",
       "      <td>sureka_akshat</td>\n",
       "      <td>1141</td>\n",
       "      <td>e4 e5 Nf3 Nc6 Bc4 Nf6 Nc3 Bc5 O-O O-O d3 Ne8 B...</td>\n",
       "      <td>C50</td>\n",
       "      <td>Four Knights Game: Italian Variation</td>\n",
       "      <td>8</td>\n",
       "    </tr>\n",
       "  </tbody>\n",
       "</table>\n",
       "</div>"
      ],
      "text/plain": [
       "          id  rated    created_at  last_move_at  turns victory_status winner  \\\n",
       "0   TZJHLljE  False  1.504210e+12  1.504210e+12     13      outoftime  white   \n",
       "1   l1NXvwaE   True  1.504130e+12  1.504130e+12     16         resign  black   \n",
       "2   mIICvQHh   True  1.504130e+12  1.504130e+12     61           mate  white   \n",
       "3   kWKvrqYL   True  1.504110e+12  1.504110e+12     61           mate  white   \n",
       "4   9tXo1AUZ   True  1.504030e+12  1.504030e+12     95           mate  white   \n",
       "5   MsoDV9wj  False  1.504240e+12  1.504240e+12      5           draw   draw   \n",
       "6   qwU9rasv   True  1.504230e+12  1.504230e+12     33         resign  white   \n",
       "7   RVN0N3VK  False  1.503680e+12  1.503680e+12      9         resign  black   \n",
       "8   dwF3DJHO   True  1.503510e+12  1.503510e+12     66         resign  black   \n",
       "9   afoMwnLg   True  1.503440e+12  1.503440e+12    119           mate  white   \n",
       "10  HgKLWPsz  False  1.503350e+12  1.503350e+12     39           mate  white   \n",
       "11  Vf5fKWzI  False  1.503350e+12  1.503350e+12     38         resign  black   \n",
       "12  HRti5mKv  False  1.503350e+12  1.503350e+12     60         resign  black   \n",
       "13  2fEjSei6  False  1.503340e+12  1.503340e+12     31         resign  black   \n",
       "14  u7i6dOaJ  False  1.504090e+12  1.504100e+12     31           mate  white   \n",
       "\n",
       "   increment_code            white_id  white_rating            black_id  \\\n",
       "0            15+2            bourgris          1500                a-00   \n",
       "1            5+10                a-00          1322           skinnerua   \n",
       "2            5+10              ischia          1496                a-00   \n",
       "3            20+0       daniamurashov          1439        adivanov2009   \n",
       "4            30+3           nik221107          1523        adivanov2009   \n",
       "5            10+0           trelynn17          1250       franklin14532   \n",
       "6            10+0             capa_jr          1520  daniel_likes_chess   \n",
       "7           15+30  daniel_likes_chess          1413            soultego   \n",
       "8            15+0           ehabfanri          1439  daniel_likes_chess   \n",
       "9            10+0  daniel_likes_chess          1381             mirco25   \n",
       "10          20+60  daniel_likes_chess          1381            anaissac   \n",
       "11          20+60  daniel_likes_chess          1381           subham777   \n",
       "12           5+40  daniel_likes_chess          1381       roman12342005   \n",
       "13            8+0  daniel_likes_chess          1381              alkhan   \n",
       "14          15+15   shivangithegenius          1094       sureka_akshat   \n",
       "\n",
       "    black_rating                                              moves  \\\n",
       "0           1191  d4 d5 c4 c6 cxd5 e6 dxe6 fxe6 Nf3 Bb4+ Nc3 Ba5...   \n",
       "1           1261  d4 Nc6 e4 e5 f4 f6 dxe5 fxe5 fxe5 Nxe5 Qd4 Nc6...   \n",
       "2           1500  e4 e5 d3 d6 Be3 c6 Be2 b5 Nd2 a5 a4 c5 axb5 Nc...   \n",
       "3           1454  d4 d5 Nf3 Bf5 Nc3 Nf6 Bf4 Ng4 e3 Nc6 Be2 Qd7 O...   \n",
       "4           1469  e4 e5 Nf3 d6 d4 Nc6 d5 Nb4 a3 Na6 Nc3 Be7 b4 N...   \n",
       "5           1002                                   e4 c5 Nf3 Qa5 a3   \n",
       "6           1423  d4 d5 e4 dxe4 Nc3 Nf6 f3 exf3 Nxf3 Nc6 Bb5 a6 ...   \n",
       "7           2108                     e4 Nc6 d4 e5 d5 Nce7 c3 Ng6 b4   \n",
       "8           1392  e4 e5 Bc4 Nc6 Nf3 Nd4 d3 Nxf3+ Qxf3 Nf6 h3 Bc5...   \n",
       "9           1209  e4 d5 exd5 Qxd5 Nc3 Qe5+ Be2 Na6 d4 Qf5 Bxa6 b...   \n",
       "10          1272  e3 e6 d4 d6 Bd3 c6 Nf3 Be7 Nc3 Nf6 Bd2 Bd7 Qe2...   \n",
       "11          1867  e4 e6 d4 d5 e5 c5 c3 Nc6 Nf3 Qb6 Be3 Qxb2 Nbd2...   \n",
       "12          1936  e4 e6 Nf3 d5 exd5 exd5 Qe2+ Be7 Nc3 Nf6 d4 O-O...   \n",
       "13          1607  e4 e6 Qh5 g6 Qe5 Nf6 d4 d6 Qb5+ Bd7 Qxb7 Bc6 Q...   \n",
       "14          1141  e4 e5 Nf3 Nc6 Bc4 Nf6 Nc3 Bc5 O-O O-O d3 Ne8 B...   \n",
       "\n",
       "   opening_eco                                       opening_name  opening_ply  \n",
       "0          D10                   Slav Defense: Exchange Variation            5  \n",
       "1          B00             Nimzowitsch Defense: Kennedy Variation            4  \n",
       "2          C20              King's Pawn Game: Leonardis Variation            3  \n",
       "3          D02             Queen's Pawn Game: Zukertort Variation            3  \n",
       "4          C41                                   Philidor Defense            5  \n",
       "5          B27               Sicilian Defense: Mongoose Variation            4  \n",
       "6          D00         Blackmar-Diemer Gambit: Pietrowsky Defense           10  \n",
       "7          B00  Nimzowitsch Defense: Kennedy Variation |  Link...            5  \n",
       "8          C50              Italian Game: Schilling-Kostic Gambit            6  \n",
       "9          B01      Scandinavian Defense: Mieses-Kotroc Variation            4  \n",
       "10         A00                               Van't Kruijs Opening            1  \n",
       "11         C02  French Defense: Advance Variation |  Paulsen A...            9  \n",
       "12         C00                   French Defense: Knight Variation            3  \n",
       "13         C00                                  French Defense #2            2  \n",
       "14         C50               Four Knights Game: Italian Variation            8  "
      ]
     },
     "execution_count": 50,
     "metadata": {},
     "output_type": "execute_result"
    }
   ],
   "source": [
    "import pandas as pd\n",
    "import matplotlib as mpl\n",
    "import numpy as np\n",
    "import matplotlib.pyplot as plt\n",
    "import seaborn as sns\n",
    "from scipy import stats\n",
    "import matplotlib.pyplot as plt\n",
    "\n",
    "games = pd.read_csv(r\"C:\\Users\\User\\Desktop\\Chess Analysis\\games.csv\")\n",
    "games.head(15)"
   ]
  },
  {
   "cell_type": "code",
   "execution_count": 27,
   "metadata": {},
   "outputs": [
    {
     "data": {
      "text/plain": [
       "0                     Slav Defense: Exchange Variation\n",
       "1               Nimzowitsch Defense: Kennedy Variation\n",
       "2                King's Pawn Game: Leonardis Variation\n",
       "3               Queen's Pawn Game: Zukertort Variation\n",
       "4                                     Philidor Defense\n",
       "5                 Sicilian Defense: Mongoose Variation\n",
       "6           Blackmar-Diemer Gambit: Pietrowsky Defense\n",
       "7    Nimzowitsch Defense: Kennedy Variation |  Link...\n",
       "8                Italian Game: Schilling-Kostic Gambit\n",
       "9        Scandinavian Defense: Mieses-Kotroc Variation\n",
       "Name: opening_name, dtype: object"
      ]
     },
     "execution_count": 27,
     "metadata": {},
     "output_type": "execute_result"
    }
   ],
   "source": [
    "games['opening_name'].head(10)"
   ]
  },
  {
   "cell_type": "code",
   "execution_count": 20,
   "metadata": {},
   "outputs": [
    {
     "data": {
      "text/plain": [
       "<matplotlib.axes._subplots.AxesSubplot at 0xd362050>"
      ]
     },
     "execution_count": 20,
     "metadata": {},
     "output_type": "execute_result"
    },
    {
     "data": {
      "image/png": "[encoded data removed]",
      "text/plain": [
       "<Figure size 432x288 with 1 Axes>"
      ]
     },
     "metadata": {},
     "output_type": "display_data"
    }
   ],
   "source": [
    "opening_number = games['opening_name'].map(lambda n: n.split(\"|\")[0].split(\":\")[0]).value_counts().head(20)\n",
    "opening_number.plot.bar()"
   ]
  },
  {
   "cell_type": "code",
   "execution_count": 4,
   "metadata": {},
   "outputs": [
    {
     "data": {
      "text/plain": [
       "<matplotlib.axes._subplots.AxesSubplot at 0xcfd9b30>"
      ]
     },
     "execution_count": 4,
     "metadata": {},
     "output_type": "execute_result"
    },
    {
     "data": {
      "image/png": "[encoded data removed]",
      "text/plain": [
       "<Figure size 432x288 with 1 Axes>"
      ]
     },
     "metadata": {},
     "output_type": "display_data"
    }
   ],
   "source": [
    "pd.cut(games['turns'], 20, precision=0).value_counts().sort_index().plot.bar()"
   ]
  },
  {
   "cell_type": "code",
   "execution_count": 18,
   "metadata": {},
   "outputs": [
    {
     "data": {
      "text/plain": [
       "<matplotlib.axes._subplots.AxesSubplot at 0xcd8e8b0>"
      ]
     },
     "execution_count": 18,
     "metadata": {},
     "output_type": "execute_result"
    },
    {
     "data": {
      "image/png": "[encoded data removed]",
      "text/plain": [
       "<Figure size 432x288 with 1 Axes>"
      ]
     },
     "metadata": {},
     "output_type": "display_data"
    }
   ],
   "source": [
    "games['victory_status'].value_counts().plot.bar()"
   ]
  },
  {
   "cell_type": "code",
   "execution_count": 19,
   "metadata": {},
   "outputs": [
    {
     "data": {
      "text/plain": [
       "(55.0, 60.46599860404826)"
      ]
     },
     "execution_count": 19,
     "metadata": {},
     "output_type": "execute_result"
    }
   ],
   "source": [
    "games['turns'].median(), games['turns'].mean()"
   ]
  },
  {
   "cell_type": "code",
   "execution_count": 32,
   "metadata": {},
   "outputs": [
    {
     "data": {
      "text/plain": [
       "count    20058.000000\n",
       "mean        60.465999\n",
       "std         33.570585\n",
       "min          1.000000\n",
       "25%         37.000000\n",
       "50%         55.000000\n",
       "75%         79.000000\n",
       "max        349.000000\n",
       "Name: turns, dtype: float64"
      ]
     },
     "execution_count": 32,
     "metadata": {},
     "output_type": "execute_result"
    }
   ],
   "source": [
    "games['turns'].describe()"
   ]
  },
  {
   "cell_type": "code",
   "execution_count": 33,
   "metadata": {},
   "outputs": [
    {
     "data": {
      "text/plain": [
       "<matplotlib.axes._subplots.AxesSubplot at 0x11909ef0>"
      ]
     },
     "execution_count": 33,
     "metadata": {},
     "output_type": "execute_result"
    },
    {
     "data": {
      "image/png": "[encoded data removed]",
      "text/plain": [
       "<Figure size 432x288 with 1 Axes>"
      ]
     },
     "metadata": {},
     "output_type": "display_data"
    }
   ],
   "source": [
    "games['winner'].value_counts().plot.bar()"
   ]
  },
  {
   "cell_type": "code",
   "execution_count": 34,
   "metadata": {},
   "outputs": [
    {
     "data": {
      "text/plain": [
       "<matplotlib.axes._subplots.AxesSubplot at 0x11945e90>"
      ]
     },
     "execution_count": 34,
     "metadata": {},
     "output_type": "execute_result"
    },
    {
     "data": {
      "image/png": "[encoded data removed]",
      "text/plain": [
       "<Figure size 432x288 with 1 Axes>"
      ]
     },
     "metadata": {},
     "output_type": "display_data"
    }
   ],
   "source": [
    "pd.concat([games['white_rating'], games['black_rating']]).plot.hist(20)"
   ]
  },
  {
   "cell_type": "code",
   "execution_count": 80,
   "metadata": {},
   "outputs": [
    {
     "data": {
      "text/html": [
       "<div>\n",
       "<style scoped>\n",
       "    .dataframe tbody tr th:only-of-type {\n",
       "        vertical-align: middle;\n",
       "    }\n",
       "\n",
       "    .dataframe tbody tr th {\n",
       "        vertical-align: top;\n",
       "    }\n",
       "\n",
       "    .dataframe thead th {\n",
       "        text-align: right;\n",
       "    }\n",
       "</style>\n",
       "<table border=\"1\" class=\"dataframe\">\n",
       "  <thead>\n",
       "    <tr style=\"text-align: right;\">\n",
       "      <th></th>\n",
       "      <th>id</th>\n",
       "      <th>rated</th>\n",
       "      <th>created_at</th>\n",
       "      <th>last_move_at</th>\n",
       "      <th>turns</th>\n",
       "      <th>victory_status</th>\n",
       "      <th>winner</th>\n",
       "      <th>increment_code</th>\n",
       "      <th>white_id</th>\n",
       "      <th>white_rating</th>\n",
       "      <th>black_id</th>\n",
       "      <th>black_rating</th>\n",
       "      <th>moves</th>\n",
       "      <th>opening_eco</th>\n",
       "      <th>opening_name</th>\n",
       "      <th>opening_ply</th>\n",
       "    </tr>\n",
       "  </thead>\n",
       "  <tbody>\n",
       "    <tr>\n",
       "      <th>97</th>\n",
       "      <td>nBfSissu</td>\n",
       "      <td>False</td>\n",
       "      <td>1.503970e+12</td>\n",
       "      <td>1.503970e+12</td>\n",
       "      <td>14</td>\n",
       "      <td>resign</td>\n",
       "      <td>white</td>\n",
       "      <td>45+0</td>\n",
       "      <td>lotfibma</td>\n",
       "      <td>1500</td>\n",
       "      <td>hollyandclaws</td>\n",
       "      <td>1500</td>\n",
       "      <td>e4 e5 Bc4 Nc6 d3 Nf6 Nf3 Bc5 Ng5 d6 Nxf7 Qe7 N...</td>\n",
       "      <td>C50</td>\n",
       "      <td>Italian Game: Giuoco Pianissimo |  Normal</td>\n",
       "      <td>8</td>\n",
       "    </tr>\n",
       "    <tr>\n",
       "      <th>144</th>\n",
       "      <td>p7a4FGwp</td>\n",
       "      <td>True</td>\n",
       "      <td>1.503090e+12</td>\n",
       "      <td>1.503090e+12</td>\n",
       "      <td>30</td>\n",
       "      <td>resign</td>\n",
       "      <td>white</td>\n",
       "      <td>15+15</td>\n",
       "      <td>fastandbulbous420</td>\n",
       "      <td>1227</td>\n",
       "      <td>sassou</td>\n",
       "      <td>1227</td>\n",
       "      <td>e4 Nf6 Nc3 e5 Bc4 Bc5 Nf3 Nc6 Ng5 O-O Bxf7+ Rx...</td>\n",
       "      <td>C50</td>\n",
       "      <td>Four Knights Game: Italian Variation</td>\n",
       "      <td>8</td>\n",
       "    </tr>\n",
       "    <tr>\n",
       "      <th>153</th>\n",
       "      <td>GT8TdRlm</td>\n",
       "      <td>True</td>\n",
       "      <td>1.503050e+12</td>\n",
       "      <td>1.503050e+12</td>\n",
       "      <td>85</td>\n",
       "      <td>mate</td>\n",
       "      <td>white</td>\n",
       "      <td>15+15</td>\n",
       "      <td>sassou</td>\n",
       "      <td>1212</td>\n",
       "      <td>shazzam9999</td>\n",
       "      <td>1212</td>\n",
       "      <td>e4 g6 d4 h5 Bc4 e6 Bf4 d5 exd5 exd5 Bb3 Bb4+ c...</td>\n",
       "      <td>B06</td>\n",
       "      <td>Modern Defense</td>\n",
       "      <td>2</td>\n",
       "    </tr>\n",
       "    <tr>\n",
       "      <th>156</th>\n",
       "      <td>xwl41jna</td>\n",
       "      <td>True</td>\n",
       "      <td>1.503950e+12</td>\n",
       "      <td>1.503950e+12</td>\n",
       "      <td>65</td>\n",
       "      <td>outoftime</td>\n",
       "      <td>white</td>\n",
       "      <td>7+2</td>\n",
       "      <td>isachess</td>\n",
       "      <td>1852</td>\n",
       "      <td>roshan_ie</td>\n",
       "      <td>1852</td>\n",
       "      <td>e4 c5 Nf3 Nc6 Bb5 a6 Be2 d6 O-O Nf6 Nc3 e5 Re1...</td>\n",
       "      <td>B30</td>\n",
       "      <td>Sicilian Defense: Nyezhmetdinov-Rossolimo Attack</td>\n",
       "      <td>5</td>\n",
       "    </tr>\n",
       "    <tr>\n",
       "      <th>385</th>\n",
       "      <td>VC0euQZC</td>\n",
       "      <td>True</td>\n",
       "      <td>1.502050e+12</td>\n",
       "      <td>1.502050e+12</td>\n",
       "      <td>41</td>\n",
       "      <td>resign</td>\n",
       "      <td>white</td>\n",
       "      <td>10+0</td>\n",
       "      <td>sergeares</td>\n",
       "      <td>1337</td>\n",
       "      <td>rustam9</td>\n",
       "      <td>1337</td>\n",
       "      <td>e4 e5 Nf3 Be7 Nc3 Nf6 d4 d5 Bg5 dxe4 Bxf6 Bxf6...</td>\n",
       "      <td>C40</td>\n",
       "      <td>King's Knight Opening</td>\n",
       "      <td>3</td>\n",
       "    </tr>\n",
       "  </tbody>\n",
       "</table>\n",
       "</div>"
      ],
      "text/plain": [
       "           id  rated    created_at  last_move_at  turns victory_status winner  \\\n",
       "97   nBfSissu  False  1.503970e+12  1.503970e+12     14         resign  white   \n",
       "144  p7a4FGwp   True  1.503090e+12  1.503090e+12     30         resign  white   \n",
       "153  GT8TdRlm   True  1.503050e+12  1.503050e+12     85           mate  white   \n",
       "156  xwl41jna   True  1.503950e+12  1.503950e+12     65      outoftime  white   \n",
       "385  VC0euQZC   True  1.502050e+12  1.502050e+12     41         resign  white   \n",
       "\n",
       "    increment_code           white_id  white_rating       black_id  \\\n",
       "97            45+0           lotfibma          1500  hollyandclaws   \n",
       "144          15+15  fastandbulbous420          1227         sassou   \n",
       "153          15+15             sassou          1212    shazzam9999   \n",
       "156            7+2           isachess          1852      roshan_ie   \n",
       "385           10+0          sergeares          1337        rustam9   \n",
       "\n",
       "     black_rating                                              moves  \\\n",
       "97           1500  e4 e5 Bc4 Nc6 d3 Nf6 Nf3 Bc5 Ng5 d6 Nxf7 Qe7 N...   \n",
       "144          1227  e4 Nf6 Nc3 e5 Bc4 Bc5 Nf3 Nc6 Ng5 O-O Bxf7+ Rx...   \n",
       "153          1212  e4 g6 d4 h5 Bc4 e6 Bf4 d5 exd5 exd5 Bb3 Bb4+ c...   \n",
       "156          1852  e4 c5 Nf3 Nc6 Bb5 a6 Be2 d6 O-O Nf6 Nc3 e5 Re1...   \n",
       "385          1337  e4 e5 Nf3 Be7 Nc3 Nf6 d4 d5 Bg5 dxe4 Bxf6 Bxf6...   \n",
       "\n",
       "    opening_eco                                      opening_name  opening_ply  \n",
       "97          C50         Italian Game: Giuoco Pianissimo |  Normal            8  \n",
       "144         C50              Four Knights Game: Italian Variation            8  \n",
       "153         B06                                    Modern Defense            2  \n",
       "156         B30  Sicilian Defense: Nyezhmetdinov-Rossolimo Attack            5  \n",
       "385         C40                             King's Knight Opening            3  "
      ]
     },
     "execution_count": 80,
     "metadata": {},
     "output_type": "execute_result"
    }
   ],
   "source": [
    "even_games = (games['white_rating'] - games['black_rating'] == 0) | (games['black_rating'] - games['white_rating'] == 0)\n",
    "evengames_data = games[even_games]\n",
    "evengames_data\n",
    "even_games_winner = evengames_data['winner']== 'white'\n",
    "evenwhitewinner = evengames_data[even_games_winner]\n",
    "evenwhitewinner.head()"
   ]
  },
  {
   "cell_type": "code",
   "execution_count": 107,
   "metadata": {},
   "outputs": [
    {
     "data": {
      "text/plain": [
       "black    95\n",
       "white    95\n",
       "draw     13\n",
       "Name: winner, dtype: int64"
      ]
     },
     "execution_count": 107,
     "metadata": {},
     "output_type": "execute_result"
    }
   ],
   "source": [
    "evengames_data['winner'].value_counts()"
   ]
  },
  {
   "cell_type": "code",
   "execution_count": 108,
   "metadata": {},
   "outputs": [
    {
     "data": {
      "text/plain": [
       "<matplotlib.axes._subplots.AxesSubplot at 0x13375ab0>"
      ]
     },
     "execution_count": 108,
     "metadata": {},
     "output_type": "execute_result"
    },
    {
     "data": {
      "image/png": "[encoded data removed]",
      "text/plain": [
       "<Figure size 432x288 with 1 Axes>"
      ]
     },
     "metadata": {},
     "output_type": "display_data"
    }
   ],
   "source": [
    "evengames_data['winner'].value_counts().plot.bar()"
   ]
  },
  {
   "cell_type": "code",
   "execution_count": 82,
   "metadata": {},
   "outputs": [
    {
     "data": {
      "text/plain": [
       "1522.039408866995"
      ]
     },
     "execution_count": 82,
     "metadata": {},
     "output_type": "execute_result"
    }
   ],
   "source": [
    "evengames_data['white_rating'].mean()"
   ]
  },
  {
   "cell_type": "code",
   "execution_count": 84,
   "metadata": {},
   "outputs": [
    {
     "data": {
      "text/plain": [
       "2228"
      ]
     },
     "execution_count": 84,
     "metadata": {},
     "output_type": "execute_result"
    }
   ],
   "source": [
    "evengames_data['white_rating'].max()"
   ]
  },
  {
   "cell_type": "code",
   "execution_count": 103,
   "metadata": {},
   "outputs": [
    {
     "data": {
      "text/html": [
       "<div>\n",
       "<style scoped>\n",
       "    .dataframe tbody tr th:only-of-type {\n",
       "        vertical-align: middle;\n",
       "    }\n",
       "\n",
       "    .dataframe tbody tr th {\n",
       "        vertical-align: top;\n",
       "    }\n",
       "\n",
       "    .dataframe thead th {\n",
       "        text-align: right;\n",
       "    }\n",
       "</style>\n",
       "<table border=\"1\" class=\"dataframe\">\n",
       "  <thead>\n",
       "    <tr style=\"text-align: right;\">\n",
       "      <th></th>\n",
       "      <th>id</th>\n",
       "      <th>rated</th>\n",
       "      <th>created_at</th>\n",
       "      <th>last_move_at</th>\n",
       "      <th>turns</th>\n",
       "      <th>victory_status</th>\n",
       "      <th>winner</th>\n",
       "      <th>increment_code</th>\n",
       "      <th>white_id</th>\n",
       "      <th>white_rating</th>\n",
       "      <th>black_id</th>\n",
       "      <th>black_rating</th>\n",
       "      <th>moves</th>\n",
       "      <th>opening_eco</th>\n",
       "      <th>opening_name</th>\n",
       "      <th>opening_ply</th>\n",
       "    </tr>\n",
       "  </thead>\n",
       "  <tbody>\n",
       "    <tr>\n",
       "      <th>18992</th>\n",
       "      <td>LABc7BKr</td>\n",
       "      <td>True</td>\n",
       "      <td>1.504428e+12</td>\n",
       "      <td>1.504430e+12</td>\n",
       "      <td>77</td>\n",
       "      <td>resign</td>\n",
       "      <td>white</td>\n",
       "      <td>15+5</td>\n",
       "      <td>chessmageddon</td>\n",
       "      <td>2228</td>\n",
       "      <td>conwycastle</td>\n",
       "      <td>2228</td>\n",
       "      <td>e4 e6 d4 d5 e5 c5 c3 Nc6 Nf3 Qb6 Be2 Bd7 O-O c...</td>\n",
       "      <td>C02</td>\n",
       "      <td>French Defense: Advance Variation |  Paulsen A...</td>\n",
       "      <td>9</td>\n",
       "    </tr>\n",
       "  </tbody>\n",
       "</table>\n",
       "</div>"
      ],
      "text/plain": [
       "             id  rated    created_at  last_move_at  turns victory_status  \\\n",
       "18992  LABc7BKr   True  1.504428e+12  1.504430e+12     77         resign   \n",
       "\n",
       "      winner increment_code       white_id  white_rating     black_id  \\\n",
       "18992  white           15+5  chessmageddon          2228  conwycastle   \n",
       "\n",
       "       black_rating                                              moves  \\\n",
       "18992          2228  e4 e6 d4 d5 e5 c5 c3 Nc6 Nf3 Qb6 Be2 Bd7 O-O c...   \n",
       "\n",
       "      opening_eco                                       opening_name  \\\n",
       "18992         C02  French Defense: Advance Variation |  Paulsen A...   \n",
       "\n",
       "       opening_ply  \n",
       "18992            9  "
      ]
     },
     "execution_count": 103,
     "metadata": {},
     "output_type": "execute_result"
    }
   ],
   "source": [
    "check = evengames_data['white_rating'] == 2228\n",
    "evengames_data[check]"
   ]
  },
  {
   "cell_type": "markdown",
   "metadata": {},
   "source": [
    "### Scicilian still seems to be the most common opening for black"
   ]
  },
  {
   "cell_type": "code",
   "execution_count": 109,
   "metadata": {},
   "outputs": [
    {
     "data": {
      "text/plain": [
       "<matplotlib.axes._subplots.AxesSubplot at 0x133b2c10>"
      ]
     },
     "execution_count": 109,
     "metadata": {},
     "output_type": "execute_result"
    },
    {
     "data": {
      "image/png": "[encoded data removed]",
      "text/plain": [
       "<Figure size 432x288 with 1 Axes>"
      ]
     },
     "metadata": {},
     "output_type": "display_data"
    }
   ],
   "source": [
    "opening_number1 = evengames_data['opening_name'].map(lambda n: n.split(\"|\")[0].split(\":\")[0]).value_counts().head(20)\n",
    "opening_number1.plot.bar()"
   ]
  },
  {
   "cell_type": "markdown",
   "metadata": {},
   "source": [
    "### We can now see that when games are evenly matched, that the number of moves per game goes up."
   ]
  },
  {
   "cell_type": "code",
   "execution_count": 110,
   "metadata": {},
   "outputs": [
    {
     "data": {
      "text/plain": [
       "<matplotlib.axes._subplots.AxesSubplot at 0x1348b870>"
      ]
     },
     "execution_count": 110,
     "metadata": {},
     "output_type": "execute_result"
    },
    {
     "data": {
      "image/png": "[encoded data removed]",
      "text/plain": [
       "<Figure size 432x288 with 1 Axes>"
      ]
     },
     "metadata": {},
     "output_type": "display_data"
    }
   ],
   "source": [
    "pd.cut(evengames_data['turns'], 20, precision=0).value_counts().sort_index().plot.bar()"
   ]
  },
  {
   "cell_type": "markdown",
   "metadata": {},
   "source": [
    "### This is still consistent with the previous data"
   ]
  },
  {
   "cell_type": "code",
   "execution_count": 114,
   "metadata": {},
   "outputs": [
    {
     "data": {
      "text/plain": [
       "<matplotlib.axes._subplots.AxesSubplot at 0x14da79d0>"
      ]
     },
     "execution_count": 114,
     "metadata": {},
     "output_type": "execute_result"
    },
    {
     "data": {
      "image/png": "[encoded data removed]",
      "text/plain": [
       "<Figure size 432x288 with 1 Axes>"
      ]
     },
     "metadata": {},
     "output_type": "display_data"
    }
   ],
   "source": [
    "evengames_data['victory_status'].value_counts().plot.bar()"
   ]
  },
  {
   "cell_type": "code",
   "execution_count": null,
   "metadata": {},
   "outputs": [],
   "source": []
  }
 ],
 "metadata": {
  "kernelspec": {
   "display_name": "Python 3",
   "language": "python",
   "name": "python3"
  },
  "language_info": {
   "codemirror_mode": {
    "name": "ipython",
    "version": 3
   },
   "file_extension": ".py",
   "mimetype": "text/x-python",
   "name": "python",
   "nbconvert_exporter": "python",
   "pygments_lexer": "ipython3",
   "version": "3.6.5"
  }
 },
 "nbformat": 4,
 "nbformat_minor": 2
}
